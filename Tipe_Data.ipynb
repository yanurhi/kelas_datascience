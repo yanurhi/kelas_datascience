{
 "cells": [
  {
   "cell_type": "markdown",
   "id": "6f9a5d50",
   "metadata": {},
   "source": [
    "# Integer (***Numeric***)"
   ]
  },
  {
   "cell_type": "code",
   "execution_count": null,
   "id": "5bd6f852",
   "metadata": {},
   "outputs": [],
   "source": [
    "a = 5\n",
    "b = -12\n",
    "c = 0"
   ]
  },
  {
   "cell_type": "markdown",
   "id": "ab1a60de",
   "metadata": {},
   "source": [
    "## Operasi Matematika dengan Integer\n",
    "Python mendukung berbagai operasi matematika yang melibatkan integer, seperti penjumlahan, pengurangan, perkalian, pembagian, modulo, eksponen, dan pembagian integer."
   ]
  },
  {
   "cell_type": "code",
   "execution_count": 4,
   "id": "feae7231",
   "metadata": {},
   "outputs": [],
   "source": [
    "x = 10\n",
    "y = 3\n",
    "\n",
    "# Penjumlahan\n",
    "z = x + y  # z = 13\n",
    "\n",
    "# Pengurangan\n",
    "z = x - y  # z = 7\n",
    "\n",
    "# Perkalian\n",
    "z = x * y  # z = 30\n",
    "\n",
    "# Pembagian\n",
    "z = x / y  # z = 3.3333333333333335 (hasilnya akan berupa float)\n",
    "\n",
    "# Modulo (sisa pembagian)\n",
    "z = x % y  # z = 1\n",
    "\n",
    "# Eksponen (pangkat)\n",
    "z = x ** y  # z = 1000\n",
    "\n",
    "# Pembagian integer (dibulatkan ke bawah)\n",
    "z = x // y  # z = 3"
   ]
  },
  {
   "cell_type": "markdown",
   "id": "8bee1fe8",
   "metadata": {},
   "source": [
    "## Fungsi-fungsi Integer\n",
    "Python menyediakan beberapa fungsi bawaan yang dapat digunakan untuk melakukan operasi pada integer, seperti abs(), round(), min(), max(), dan divmod()."
   ]
  },
  {
   "cell_type": "code",
   "execution_count": 10,
   "id": "0702475d",
   "metadata": {},
   "outputs": [],
   "source": [
    "x = -100\n",
    "y = 3\n",
    "\n",
    "# Nilai absolut\n",
    "z = abs(x)  # z = 5\n",
    "\n",
    "# Pembulatan\n",
    "z = round(3.7)  # z = 4\n",
    "\n",
    "# Nilai minimum\n",
    "z = min(x, y)  # z = -5\n",
    "\n",
    "# Nilai maksimum\n",
    "z = max(x, y)  # z = 3\n",
    "\n",
    "# Pembagian dan sisa pembagian\n",
    "z = divmod(x, y)  # z = (-2, 1)"
   ]
  },
  {
   "cell_type": "markdown",
   "id": "0633e4a3",
   "metadata": {},
   "source": [
    "## Konversi Tipe Data Integer\n",
    "Python memungkinkan Anda untuk mengkonversi tipe data ke tipe data lain menggunakan fungsi seperti int(), float(), dan str().\n",
    "\n",
    "Catatan: Ketika mengkonversi string ke integer, pastikan string tersebut hanya berisi angka. Jika tidak, Anda akan mendapatkan ValueError."
   ]
  },
  {
   "cell_type": "code",
   "execution_count": 12,
   "id": "4bb9f653",
   "metadata": {},
   "outputs": [],
   "source": [
    "# Mengkonversi float ke integer\n",
    "x = 3.7\n",
    "y = int(x)  # y = 3 (dibulatkan ke bawah)\n",
    "\n",
    "# Mengkonversi string ke integer\n",
    "x = \"123\"\n",
    "y = int(x)  # y = 123"
   ]
  },
  {
   "cell_type": "markdown",
   "id": "bb1a85f3",
   "metadata": {},
   "source": [
    "# Float (***Numeric***)"
   ]
  },
  {
   "cell_type": "code",
   "execution_count": null,
   "id": "79b000a8",
   "metadata": {},
   "outputs": [],
   "source": [
    "a = 3.14\n",
    "b = -0.5\n",
    "c = 1.23e-4  # 0.000123"
   ]
  },
  {
   "cell_type": "markdown",
   "id": "7ae277a6",
   "metadata": {},
   "source": [
    "## Operasi Matematika dengan Float\n",
    "Python mendukung berbagai operasi matematika yang melibatkan float, seperti penjumlahan, pengurangan, perkalian, pembagian, modulo, eksponen, dan pembagian integer."
   ]
  },
  {
   "cell_type": "code",
   "execution_count": null,
   "id": "c3df85d6",
   "metadata": {},
   "outputs": [],
   "source": [
    "x = 10.5\n",
    "y = 3.2\n",
    "\n",
    "# Penjumlahan\n",
    "z = x + y  # z = 13.7\n",
    "\n",
    "# Pengurangan\n",
    "z = x - y  # z = 7.3\n",
    "\n",
    "# Perkalian\n",
    "z = x * y  # z = 33.6\n",
    "\n",
    "# Pembagian\n",
    "z = x / y  # z = 3.28125\n",
    "\n",
    "# Modulo (sisa pembagian)\n",
    "z = x % y  # z = 1.1\n",
    "\n",
    "# Eksponen (pangkat)\n",
    "z = x ** y  # z = 2538.6177880185014\n",
    "\n",
    "# Pembagian integer (dibulatkan ke bawah)\n",
    "z = x // y  # z = 3.0\n"
   ]
  },
  {
   "cell_type": "markdown",
   "id": "7dbb7ad6",
   "metadata": {},
   "source": [
    "## Fungsi-fungsi Float\n",
    "Sama seperti Integer Python menyediakan beberapa fungsi bawaan yang dapat digunakan untuk melakukan operasi pada float, seperti abs(), round(), min(), max(), dan divmod()."
   ]
  },
  {
   "cell_type": "code",
   "execution_count": null,
   "id": "a090ae34",
   "metadata": {},
   "outputs": [],
   "source": [
    "x = -5.5\n",
    "y = 3.7\n",
    "\n",
    "# Nilai absolut\n",
    "z = abs(x)  # z = 5.5\n",
    "\n",
    "# Pembulatan\n",
    "z = round(3.7)  # z = 4\n",
    "\n",
    "# Nilai minimum\n",
    "z = min(x, y)  # z = -5.5\n",
    "\n",
    "# Nilai maksimum\n",
    "z = max(x, y)  # z = 3.7\n",
    "\n",
    "# Pembagian dan sisa pembagian\n",
    "z = divmod(x, y)  # z = (-2.0, 2.3)"
   ]
  },
  {
   "cell_type": "markdown",
   "id": "562b7fbb",
   "metadata": {},
   "source": [
    "## Konversi Tipe Data Float\n",
    "Python memungkinkan Anda untuk mengkonversi tipe data ke tipe data lain menggunakan fungsi seperti int(), float(), dan str().\n",
    "\n",
    "Catatan: Ketika mengkonversi string ke float, pastikan string tersebut hanya berisi angka dan titik desimal. Jika tidak, Anda akan mendapatkan ValueError."
   ]
  },
  {
   "cell_type": "code",
   "execution_count": null,
   "id": "85d3e642",
   "metadata": {},
   "outputs": [],
   "source": [
    "# Mengkonversi integer ke float\n",
    "x = 3\n",
    "y = float(x)  # y = 3.0\n",
    "\n",
    "# Mengkonversi string ke float\n",
    "x = \"3.14\"\n",
    "y = float(x)  # y = 3.14"
   ]
  },
  {
   "cell_type": "markdown",
   "id": "8ace56f4",
   "metadata": {},
   "source": [
    "# String (***Sequence***)"
   ]
  },
  {
   "cell_type": "markdown",
   "id": "9d05fa2e",
   "metadata": {},
   "source": [
    "## Mendefinisikan String\n",
    "\n",
    "Untuk mendefinisikan string, Anda cukup mengapit teks dengan tanda kutip tunggal atau kutip ganda:"
   ]
  },
  {
   "cell_type": "code",
   "execution_count": null,
   "id": "54e97f24",
   "metadata": {},
   "outputs": [],
   "source": [
    "s1 = 'Hello, World!'\n",
    "s2 = \"Python Programming\""
   ]
  },
  {
   "cell_type": "markdown",
   "id": "5f6a1ee3",
   "metadata": {},
   "source": [
    "## Mengakses Elemen String\n",
    "Anda dapat mengakses elemen string menggunakan indeks. Indeks dimulai dari 0 untuk karakter pertama, 1 untuk karakter kedua, dan seterusnya:"
   ]
  },
  {
   "cell_type": "code",
   "execution_count": 42,
   "id": "6d1ea064",
   "metadata": {},
   "outputs": [],
   "source": [
    "s = 'Hello, World!'\n",
    "first_char = s[0]  # 'H'\n",
    "second_char = s[1]  # 'e'\n",
    "last_char = s[-1]"
   ]
  },
  {
   "cell_type": "markdown",
   "id": "dda5c85f",
   "metadata": {},
   "source": [
    "## Slicing String\n",
    "Anda dapat mengakses sebagian dari string dengan menggunakan slicing. Slicing memungkinkan Anda untuk memotong string dan menghasilkan substring:"
   ]
  },
  {
   "cell_type": "code",
   "execution_count": null,
   "id": "d88c730f",
   "metadata": {},
   "outputs": [],
   "source": [
    "s = \"Hello, World!\"\n",
    "substring = s[0:5]  # \"Hello\""
   ]
  },
  {
   "cell_type": "markdown",
   "id": "543c1d66",
   "metadata": {},
   "source": [
    "## Panjang String\n",
    "Untuk mengetahui panjang string, Anda dapat menggunakan fungsi bawaan ***len()***:"
   ]
  },
  {
   "cell_type": "code",
   "execution_count": null,
   "id": "1de4bfe4",
   "metadata": {},
   "outputs": [],
   "source": [
    "s = \"Hello, World!\"\n",
    "length = len(s)  # 13"
   ]
  },
  {
   "cell_type": "markdown",
   "id": "6f053ab2",
   "metadata": {},
   "source": [
    "## Operasi String\n",
    "Python mendukung berbagai operasi pada string, seperti penggabungan (concatenation) dan pengulangan (repetition):"
   ]
  },
  {
   "cell_type": "code",
   "execution_count": 2,
   "id": "dad50b39",
   "metadata": {},
   "outputs": [],
   "source": [
    "s1 = \"Hello\"\n",
    "s2 = \"World\"\n",
    "\n",
    "# Penggabungan (concatenation)\n",
    "s3 = s1 + \" \" + s2  # \"Hello World\"\n",
    "\n",
    "# Pengulangan (repetition)\n",
    "s4 = s1 * 3  # \"HelloHelloHello\""
   ]
  },
  {
   "cell_type": "code",
   "execution_count": 3,
   "id": "83002acb",
   "metadata": {},
   "outputs": [
    {
     "data": {
      "text/plain": [
       "'HelloHelloHello'"
      ]
     },
     "execution_count": 3,
     "metadata": {},
     "output_type": "execute_result"
    }
   ],
   "source": [
    "s4"
   ]
  },
  {
   "cell_type": "markdown",
   "id": "3a9dd566",
   "metadata": {},
   "source": [
    "## Metode String\n",
    "Python menyediakan sejumlah metode bawaan untuk memanipulasi string, seperti ***lower()***, ***upper()***, ***strip()***, ***replace()***, ***find()***, dan ***split()***:\n"
   ]
  },
  {
   "cell_type": "code",
   "execution_count": 9,
   "id": "0e9f2e2b",
   "metadata": {},
   "outputs": [],
   "source": [
    "s = \"Hello, World!\"\n",
    "\n",
    "# Mengubah ke huruf kecil\n",
    "lowercase = s.lower()  # \"hello, world!\"\n",
    "\n",
    "# Mengubah ke huruf besar\n",
    "uppercase = s.upper()  # \"HELLO, WORLD!\"\n",
    "\n",
    "# Menghilangkan spasi di awal dan akhir string\n",
    "trimmed = \" Hello, World! \".strip()  # \"Hello, World!\"\n",
    "\n",
    "# Menggantikan substring\n",
    "replaced = s.replace(\"World\", \"Python\")  # \"Hello, Python!\"\n",
    "\n",
    "# Mencari indeks substring\n",
    "index = s.find(\"World\")  # 7\n",
    "\n",
    "# Memecah string menjadi list\n",
    "words = s.split()  # ['Hello,', 'World!']"
   ]
  },
  {
   "cell_type": "code",
   "execution_count": 10,
   "id": "d03462ff",
   "metadata": {},
   "outputs": [
    {
     "data": {
      "text/plain": [
       "'Hello, World!'"
      ]
     },
     "execution_count": 10,
     "metadata": {},
     "output_type": "execute_result"
    }
   ],
   "source": [
    "trimmed"
   ]
  },
  {
   "cell_type": "markdown",
   "id": "5ee8179f",
   "metadata": {},
   "source": [
    "## String Immutability\n",
    "String adalah tipe data immutable, yang berarti Anda tidak dapat mengubah elemen string setelah string tersebut dibuat. Jika Anda mencoba mengubah elemen string, Python akan menghasilkan kesalahan:"
   ]
  },
  {
   "cell_type": "code",
   "execution_count": 15,
   "id": "81978b0d",
   "metadata": {},
   "outputs": [],
   "source": [
    "s = \"Hello, World!\"\n",
    "# s[0] = 'h'  # TypeError: 'str' object does not support item assignment"
   ]
  },
  {
   "cell_type": "markdown",
   "id": "4ad9d6f4",
   "metadata": {},
   "source": [
    "Untuk mengubah string, Anda harus membuat string baru dengan memanipulasi string asli menggunakan operasi atau metode string, seperti yang telah dijelaskan sebelumnya. Misalnya, jika Anda ingin menggantikan karakter pertama string 's' dengan 'h', Anda bisa melakukan hal berikut:"
   ]
  },
  {
   "cell_type": "code",
   "execution_count": 37,
   "id": "072f1b4e",
   "metadata": {
    "scrolled": true
   },
   "outputs": [
    {
     "data": {
      "text/plain": [
       "'hello, World!'"
      ]
     },
     "execution_count": 37,
     "metadata": {},
     "output_type": "execute_result"
    }
   ],
   "source": [
    "s = \"Hello, World!\"\n",
    "new_s = 'h' + s[1:]  # \"hello, World!\"\n",
    "new_s"
   ]
  },
  {
   "cell_type": "markdown",
   "id": "fad16d98",
   "metadata": {},
   "source": [
    "Dalam contoh ini, kita membuat string baru 'new_s' dengan menggabungkan karakter 'h' dan elemen string 's' mulai dari indeks 1 hingga akhir. String asli 's' tidak berubah, tetapi kita memiliki string baru yang dihasilkan dengan perubahan yang diinginkan."
   ]
  },
  {
   "cell_type": "markdown",
   "id": "21b32755",
   "metadata": {},
   "source": [
    "### Question\n",
    "\n",
    "<<>>\n",
    "\n",
    "jika di amati dari code: <br>\n",
    "***s = \"Hello, World!\"***\"<br>\n",
    "maka s[0] yang diambil adalah 'H' namun bukankah pada variable <br>\n",
    "***new_s = 'h' + s[1:]***<br>\n",
    "***new_s*** seharusnya ***'h' + s[0:] ?***<br>  \n",
    "\n",
    "\n",
    "<!-- Ketika kita mengakses elemen pada indeks 0 dari string s, kita mendapatkan karakter pertama, yaitu 'H'. Kode yang diberikan di bawah ini menggantikan karakter pertama dengan karakter 'h':\n",
    "\n",
    "s = \"Hello, World!\"<br>\n",
    "new_s = 'h' + s[1:]  # \"hello, World!\"<br>\n",
    "\n",
    "Berikut penjelasan langkah demi langkah tentang apa yang terjadi dalam kode di atas:\n",
    "\n",
    "s[1:] mengambil elemen string s mulai dari indeks 1 hingga akhir, yaitu \"ello, World!\".\n",
    "Kemudian kita menggabungkan karakter 'h' dengan substring yang dihasilkan, yaitu \"ello, World!\".\n",
    "Hasil penggabungan ini adalah \"h\" + \"ello, World!\" = \"hello, World!\".\n",
    "Jadi, kita menggantikan karakter pertama (s[0]) dari string asli 's' dengan karakter 'h' untuk membuat string baru 'new_s'. Proses ini tidak mengubah string asli 's' karena string adalah tipe data immutable. Namun, kita berhasil membuat string baru 'new_s' dengan karakter pertama yang diubah sesuai keinginan kita. -->"
   ]
  },
  {
   "cell_type": "markdown",
   "id": "449c748f",
   "metadata": {},
   "source": [
    "# List (***Sequence***)"
   ]
  },
  {
   "cell_type": "markdown",
   "id": "335c2be6",
   "metadata": {},
   "source": [
    "## Contoh pembuatan list"
   ]
  },
  {
   "cell_type": "code",
   "execution_count": 1,
   "id": "cf12cc11",
   "metadata": {},
   "outputs": [
    {
     "data": {
      "text/plain": [
       "['apel', 'pisang', 'jeruk']"
      ]
     },
     "execution_count": 1,
     "metadata": {},
     "output_type": "execute_result"
    }
   ],
   "source": [
    "# Contoh pembuatan list\n",
    "my_list = ['apel', 'pisang', 'jeruk']\n",
    "my_list"
   ]
  },
  {
   "cell_type": "markdown",
   "id": "9d3d4715",
   "metadata": {},
   "source": [
    "## Mengakses Elemen List\n",
    "- Anda dapat mengakses elemen dalam list menggunakan indeks. Indeks dimulai dari 0."
   ]
  },
  {
   "cell_type": "code",
   "execution_count": 2,
   "id": "676ef281",
   "metadata": {},
   "outputs": [
    {
     "name": "stdout",
     "output_type": "stream",
     "text": [
      "apel\n",
      "jeruk\n"
     ]
    }
   ],
   "source": [
    "my_list = ['apel', 'pisang', 'jeruk']\n",
    "print(my_list[0])  # Output: apel\n",
    "print(my_list[2])  # Output: jeruk"
   ]
  },
  {
   "cell_type": "markdown",
   "id": "f95f56aa",
   "metadata": {},
   "source": [
    "## Mengganti Elemen List\n",
    "- Karena list bersifat mutable, Anda dapat mengganti elemen dalam list dengan mudah."
   ]
  },
  {
   "cell_type": "code",
   "execution_count": 3,
   "id": "fe3bd828",
   "metadata": {},
   "outputs": [
    {
     "name": "stdout",
     "output_type": "stream",
     "text": [
      "['apel', 'mangga', 'jeruk']\n"
     ]
    }
   ],
   "source": [
    "my_list = ['apel', 'pisang', 'jeruk']\n",
    "my_list[1] = 'mangga'\n",
    "print(my_list)  # Output: ['apel', 'mangga', 'jeruk']"
   ]
  },
  {
   "cell_type": "markdown",
   "id": "5ed7fa46",
   "metadata": {},
   "source": [
    "## Menambah Elemen ke List\n",
    "- Anda dapat menambahkan elemen ke list dengan menggunakan metode ***append().***"
   ]
  },
  {
   "cell_type": "code",
   "execution_count": 4,
   "id": "72fdaab7",
   "metadata": {},
   "outputs": [
    {
     "name": "stdout",
     "output_type": "stream",
     "text": [
      "['apel', 'pisang', 'jeruk', 'mangga']\n"
     ]
    }
   ],
   "source": [
    "my_list = ['apel', 'pisang', 'jeruk']\n",
    "my_list.append('mangga')\n",
    "print(my_list)  # Output: ['apel', 'pisang', 'jeruk', 'mangga']"
   ]
  },
  {
   "cell_type": "markdown",
   "id": "71c524e3",
   "metadata": {},
   "source": [
    "## Menghapus Elemen dari List\n",
    "- Anda dapat menghapus elemen dari list dengan menggunakan metode remove() atau pop()"
   ]
  },
  {
   "cell_type": "code",
   "execution_count": 5,
   "id": "ed5765a5",
   "metadata": {},
   "outputs": [
    {
     "name": "stdout",
     "output_type": "stream",
     "text": [
      "['apel', 'jeruk']\n",
      "['apel', 'jeruk']\n"
     ]
    }
   ],
   "source": [
    "my_list = ['apel', 'pisang', 'jeruk']\n",
    "my_list.remove('pisang')\n",
    "print(my_list) \n",
    "\n",
    "my_list = ['apel', 'pisang', 'jeruk']\n",
    "my_list.pop(1)\n",
    "print(my_list)  "
   ]
  },
  {
   "cell_type": "markdown",
   "id": "b8e91d18",
   "metadata": {},
   "source": [
    "## Slicing List\n",
    "- Anda dapat mengakses sebagian list dengan menggunakan slicing."
   ]
  },
  {
   "cell_type": "code",
   "execution_count": 19,
   "id": "00b1e86a",
   "metadata": {},
   "outputs": [
    {
     "name": "stdout",
     "output_type": "stream",
     "text": [
      "['mangga', 'anggur']\n"
     ]
    }
   ],
   "source": [
    "my_list = ['apel', 'pisang', 'jeruk', 'mangga', 'anggur']\n",
    "sub_list = my_list[-2:]\n",
    "print(sub_list)"
   ]
  },
  {
   "cell_type": "markdown",
   "id": "6ffee049",
   "metadata": {},
   "source": [
    "## Fungsi dan Metode List Lainnya\n",
    "- Beberapa fungsi dan metode lain yang sering digunakan pada list antara lain: ***len()***, ***insert()***, ***count()***, ***sort()***, ***reverse()***, dan ***extend()***."
   ]
  },
  {
   "cell_type": "markdown",
   "id": "d879528b",
   "metadata": {},
   "source": [
    "## Fungsi len()\n",
    "- Fungsi ***len()*** digunakan untuk menghitung jumlah elemen dalam sebuah list."
   ]
  },
  {
   "cell_type": "code",
   "execution_count": 7,
   "id": "f9df37fb",
   "metadata": {},
   "outputs": [
    {
     "name": "stdout",
     "output_type": "stream",
     "text": [
      "5\n"
     ]
    }
   ],
   "source": [
    "my_list = ['apel', 'pisang', 'jeruk', 'mangga', 'anggur']\n",
    "print(len(my_list)) "
   ]
  },
  {
   "cell_type": "markdown",
   "id": "4747c91e",
   "metadata": {},
   "source": [
    "## Metode insert()\n",
    "- Metode ***insert()*** digunakan untuk menambahkan elemen pada posisi tertentu dalam list. Metode ini membutuhkan dua argumen: indeks di mana elemen akan dimasukkan, dan elemen yang akan ditambahkan."
   ]
  },
  {
   "cell_type": "code",
   "execution_count": 8,
   "id": "2ef286b2",
   "metadata": {},
   "outputs": [
    {
     "name": "stdout",
     "output_type": "stream",
     "text": [
      "['apel', 'mangga', 'pisang', 'jeruk']\n"
     ]
    }
   ],
   "source": [
    "my_list = ['apel', 'pisang', 'jeruk']\n",
    "my_list.insert(1, 'mangga')\n",
    "print(my_list)"
   ]
  },
  {
   "cell_type": "markdown",
   "id": "41156c7d",
   "metadata": {},
   "source": [
    "## Metode count()\n",
    "- Metode ***count()*** digunakan untuk menghitung jumlah kemunculan suatu elemen dalam lis"
   ]
  },
  {
   "cell_type": "code",
   "execution_count": 9,
   "id": "88d38449",
   "metadata": {},
   "outputs": [
    {
     "name": "stdout",
     "output_type": "stream",
     "text": [
      "4\n"
     ]
    }
   ],
   "source": [
    "my_list = [1, 2, 3, 2, 1, 3, 1, 1, 2, 3]\n",
    "print(my_list.count(1))"
   ]
  },
  {
   "cell_type": "markdown",
   "id": "44ae1abf",
   "metadata": {},
   "source": [
    "## Metode sort()\n",
    "- Metode ***sort()*** digunakan untuk mengurutkan elemen dalam list. Secara default, metode ini akan mengurutkan elemen dalam urutan menaik. Anda juga dapat mengurutkan dalam urutan menurun dengan menggunakan argumen ***reverse=True.***"
   ]
  },
  {
   "cell_type": "code",
   "execution_count": 21,
   "id": "c786f4ca",
   "metadata": {},
   "outputs": [
    {
     "name": "stdout",
     "output_type": "stream",
     "text": [
      "[1, 1, 2, 3, 4, 5, 6, 9]\n",
      "[9, 6, 5, 4, 3, 2, 1, 1]\n"
     ]
    }
   ],
   "source": [
    "my_list = [3, 1, 4, 1, 5, 9, 2, 6]\n",
    "my_list.sort()\n",
    "print(my_list)\n",
    "\n",
    "my_list.sort(reverse=True)\n",
    "print(my_list) "
   ]
  },
  {
   "cell_type": "code",
   "execution_count": 22,
   "id": "cbab5e78",
   "metadata": {},
   "outputs": [
    {
     "name": "stdout",
     "output_type": "stream",
     "text": [
      "[9, 6, 5, 4, 3, 2, 1, 1]\n"
     ]
    }
   ],
   "source": [
    "print(my_list)"
   ]
  },
  {
   "cell_type": "markdown",
   "id": "575d8434",
   "metadata": {},
   "source": [
    "## Metode reverse()\n",
    "- Metode ***reverse()*** digunakan untuk membalik urutan elemen dalam list."
   ]
  },
  {
   "cell_type": "code",
   "execution_count": 11,
   "id": "e1b316ae",
   "metadata": {},
   "outputs": [
    {
     "name": "stdout",
     "output_type": "stream",
     "text": [
      "['anggur', 'mangga', 'jeruk', 'pisang', 'apel']\n"
     ]
    }
   ],
   "source": [
    "my_list = ['apel', 'pisang', 'jeruk', 'mangga', 'anggur']\n",
    "my_list.reverse()\n",
    "print(my_list)  "
   ]
  },
  {
   "cell_type": "markdown",
   "id": "3d49c93a",
   "metadata": {},
   "source": [
    "## Metode extend()\n",
    "- Metode extend() digunakan untuk menggabungkan elemen dari satu list ke list lain. Metode ini akan menggabungkan elemen dari list yang diberikan sebagai argumen ke list yang memanggil metode ini."
   ]
  },
  {
   "cell_type": "code",
   "execution_count": 12,
   "id": "2165f52a",
   "metadata": {},
   "outputs": [
    {
     "name": "stdout",
     "output_type": "stream",
     "text": [
      "[1, 2, 3, 4, 5, 6]\n"
     ]
    }
   ],
   "source": [
    "list1 = [1, 2, 3]\n",
    "list2 = [4, 5, 6]\n",
    "list1.extend(list2)\n",
    "print(list1) "
   ]
  },
  {
   "cell_type": "code",
   "execution_count": 13,
   "id": "2d83c971",
   "metadata": {},
   "outputs": [
    {
     "name": "stdout",
     "output_type": "stream",
     "text": [
      "Anda juga dapat menggunakan operator + untuk menggabungkan dua list.\n",
      "[1, 2, 3, 4, 5, 6]\n"
     ]
    }
   ],
   "source": [
    "list1 = [1, 2, 3]\n",
    "list2 = [4, 5, 6]\n",
    "print(\"Anda juga dapat menggunakan operator + untuk menggabungkan dua list.\")\n",
    "result = list1 + list2\n",
    "print(result)"
   ]
  },
  {
   "cell_type": "markdown",
   "id": "765bbc78",
   "metadata": {},
   "source": [
    "## Menggunakan Fungsi sorted()\n",
    "- Fungsi ***sorted()*** digunakan untuk mengurutkan elemen dalam list dan mengembalikan list baru yang telah diurutkan, tanpa mengubah list asli. Anda juga dapat mengurutkan dalam urutan menurun dengan menggunakan argumen ***reverse=True.***"
   ]
  },
  {
   "cell_type": "code",
   "execution_count": 14,
   "id": "2b6b1a4a",
   "metadata": {},
   "outputs": [
    {
     "name": "stdout",
     "output_type": "stream",
     "text": [
      "[1, 1, 2, 3, 4, 5, 6, 9]\n",
      "[3, 1, 4, 1, 5, 9, 2, 6]\n",
      "[9, 6, 5, 4, 3, 2, 1, 1]\n"
     ]
    }
   ],
   "source": [
    "my_list = [3, 1, 4, 1, 5, 9, 2, 6]\n",
    "sorted_list = sorted(my_list)\n",
    "print(sorted_list) \n",
    "print(my_list) \n",
    "\n",
    "sorted_list = sorted(my_list, reverse=True)\n",
    "print(sorted_list) "
   ]
  },
  {
   "cell_type": "markdown",
   "id": "20ebc1b6",
   "metadata": {},
   "source": [
    "## Fungsi sum() dan max()\n",
    "- Fungsi ***sum()*** digunakan untuk menghitung jumlah total elemen dalam list, dan fungsi ***max()*** digunakan untuk menemukan elemen terbesar dalam list. Kedua fungsi ini hanya dapat digunakan pada list yang berisi elemen bertipe numerik."
   ]
  },
  {
   "cell_type": "code",
   "execution_count": 15,
   "id": "175e04b6",
   "metadata": {},
   "outputs": [
    {
     "name": "stdout",
     "output_type": "stream",
     "text": [
      "15\n",
      "5\n"
     ]
    }
   ],
   "source": [
    "my_list = [1, 2, 3, 4, 5]\n",
    "print(sum(my_list))\n",
    "print(max(my_list)) "
   ]
  },
  {
   "cell_type": "markdown",
   "id": "5bbac655",
   "metadata": {},
   "source": [
    "## Nested Lists\n",
    "- Nested lists atau list bersarang adalah list yang berisi list lain sebagai elemennya. Nested lists sering digunakan untuk merepresentasikan struktur data seperti matriks atau pohon."
   ]
  },
  {
   "cell_type": "code",
   "execution_count": 16,
   "id": "e5e7b575",
   "metadata": {},
   "outputs": [
    {
     "name": "stdout",
     "output_type": "stream",
     "text": [
      "[1, 2, 3]\n",
      "6\n"
     ]
    }
   ],
   "source": [
    "nested_list = [\n",
    "    [1, 2, 3],\n",
    "    [4, 5, 6],\n",
    "    [7, 8, 9]\n",
    "]\n",
    "\n",
    "print(nested_list[0])  \n",
    "print(nested_list[1][2])  "
   ]
  },
  {
   "cell_type": "markdown",
   "id": "a2a6b1c7",
   "metadata": {},
   "source": [
    "## Enumerating Lists dengan Fungsi enumerate()\n",
    "- Fungsi ***enumerate()*** digunakan untuk menghasilkan pasangan indeks dan elemen dalam list. Fungsi ini sering digunakan dalam loop for untuk mengiterasi list sambil mengakses indeks dan elemen."
   ]
  },
  {
   "cell_type": "code",
   "execution_count": 17,
   "id": "234936ae",
   "metadata": {},
   "outputs": [
    {
     "name": "stdout",
     "output_type": "stream",
     "text": [
      "Index: 0, Elemen: apel\n",
      "Index: 1, Elemen: pisang\n",
      "Index: 2, Elemen: jeruk\n",
      "Index: 3, Elemen: mangga\n",
      "Index: 4, Elemen: anggur\n"
     ]
    }
   ],
   "source": [
    "my_list = ['apel', 'pisang', 'jeruk', 'mangga', 'anggur']\n",
    "\n",
    "for index, element in enumerate(my_list):\n",
    "    print(f\"Index: {index}, Elemen: {element}\")"
   ]
  },
  {
   "cell_type": "markdown",
   "id": "892adf43",
   "metadata": {},
   "source": [
    "## Menggabungkan List dengan Fungsi zip()\n",
    "- Fungsi ***zip()*** digunakan untuk menggabungkan beberapa list menjadi satu list berisi tuple, di mana tuple ke-i berisi elemen ke-i dari setiap list yang digabungkan. Panjang list yang dihasilkan sama dengan panjang list terpendek yang digabungkan."
   ]
  },
  {
   "cell_type": "code",
   "execution_count": 18,
   "id": "21eaffee",
   "metadata": {},
   "outputs": [
    {
     "name": "stdout",
     "output_type": "stream",
     "text": [
      "[('Alice', 25), ('Bob', 30), ('Charlie', 35)]\n"
     ]
    }
   ],
   "source": [
    "names = ['Alice', 'Bob', 'Charlie']\n",
    "ages = [25, 30, 35]\n",
    "\n",
    "combined = zip(names, ages)\n",
    "combined_list = list(combined)\n",
    "print(combined_list)  "
   ]
  },
  {
   "cell_type": "markdown",
   "id": "0cb7f69d",
   "metadata": {},
   "source": [
    "## List Comprehension\n",
    "- List comprehension adalah cara yang lebih singkat dan elegan untuk membuat list yang baru dari list yang sudah ada."
   ]
  },
  {
   "cell_type": "code",
   "execution_count": 19,
   "id": "97963743",
   "metadata": {},
   "outputs": [
    {
     "name": "stdout",
     "output_type": "stream",
     "text": [
      "[1, 4, 9, 16, 25]\n"
     ]
    }
   ],
   "source": [
    "numbers = [1, 2, 3, 4, 5]\n",
    "squares = [x**2 for x in numbers]\n",
    "print(squares)  # Output: [1, 4, 9, 16, 25]"
   ]
  },
  {
   "cell_type": "markdown",
   "id": "73671858",
   "metadata": {},
   "source": [
    "# Soal List"
   ]
  },
  {
   "cell_type": "markdown",
   "id": "6f31d749",
   "metadata": {},
   "source": [
    "Berikut merupakan soal latihan yang harus di jawab ketika kelas berlangsung\n",
    "\n",
    "0) Jelaskan Apa Itu List?\n",
    "\n",
    "1) Akses Elemen List: Diberikan list angka = [10, 20, 30, 40, 50], akses elemen ketiga dari list tersebut.\n",
    "\n",
    "2) Manipulasi List: Diberikan list buah = ['apel', 'jeruk', 'mangga'], tambahkan elemen 'pisang' ke dalam list.\n",
    "\n",
    "3) Penggabungan List: Gabungkan dua list berikut menjadi satu list baru: list1 = [1, 2, 3] dan list2 = [4, 5, 6].\n",
    "\n",
    "4) Fungsi dan Metode List: Gunakan fungsi len() untuk menghitung panjang dari list hewan = ['kucing', 'anjing', 'kelinci'].\n",
    "\n",
    "5) Slicing List: Diberikan list angka = [0, 1, 2, 3, 4, 5, 6, 7, 8, 9], ambil elemen dari indeks 2 hingga 7 (ekslusif).\n",
    "\n",
    "6) Perulangan List: Gunakan perulangan for untuk mencetak semua elemen dalam list kota = ['Jakarta', 'Surabaya', 'Bandung'].\n",
    "\n",
    "7) List Comprehension: Buatlah list baru yang berisi kuadrat dari setiap angka dalam list angka = [1, 2, 3, 4, 5] menggunakan list comprehension.\n",
    "\n",
    "8) Nested List: Diberikan nested list matriks = [[1, 2, 3], [4, 5, 6], [7, 8, 9]], akses elemen dengan nilai 5."
   ]
  },
  {
   "cell_type": "code",
   "execution_count": null,
   "id": "fb28c5e6",
   "metadata": {},
   "outputs": [],
   "source": [
    "# SOAL NO 0\n",
    "sebuah tipe data yang dapat menyimpan seumpulan data dalam 1 variabel, bisa berupa strings, integers, floats. Dapat dimodifikasi isinya"
   ]
  },
  {
   "cell_type": "code",
   "execution_count": 12,
   "id": "d8eb67bc",
   "metadata": {},
   "outputs": [
    {
     "name": "stdout",
     "output_type": "stream",
     "text": [
      "[30]\n"
     ]
    }
   ],
   "source": [
    "# SOAL NO 1\n",
    "my_list = [10, 20, 30, 40, 50]\n",
    "print(my_list[2:3])"
   ]
  },
  {
   "cell_type": "code",
   "execution_count": 27,
   "id": "6bb3cccf",
   "metadata": {},
   "outputs": [
    {
     "name": "stdout",
     "output_type": "stream",
     "text": [
      "['apel', 'jeruk', 'mangga', 'pisang']\n",
      "['apel', 'nanas', 'jeruk', 'mangga', 'pisang']\n"
     ]
    }
   ],
   "source": [
    "# SOAL NO 2\n",
    "buah = ['apel', 'jeruk', 'mangga']\n",
    "buah.append('pisang')\n",
    "print(buah)\n",
    "\n",
    "buah.insert(1, 'nanas')\n",
    "print(buah)"
   ]
  },
  {
   "cell_type": "code",
   "execution_count": 24,
   "id": "2472a45b",
   "metadata": {},
   "outputs": [
    {
     "name": "stdout",
     "output_type": "stream",
     "text": [
      "[1, 2, 3, 4, 5, 6]\n",
      "[1, 2, 3, 4, 5, 6]\n"
     ]
    }
   ],
   "source": [
    "# SOAL NO 3\n",
    "list1 = [1, 2, 3]\n",
    "list2 = [4, 5, 6]\n",
    "result1 = list1 + list2\n",
    "print(result)\n",
    "\n",
    "list1.extend(list2)\n",
    "print(list1)"
   ]
  },
  {
   "cell_type": "code",
   "execution_count": 30,
   "id": "77fb3649",
   "metadata": {},
   "outputs": [
    {
     "name": "stdout",
     "output_type": "stream",
     "text": [
      "3\n"
     ]
    }
   ],
   "source": [
    "# SOAL NO 4\n",
    "hewan = ['kucing', 'anjing', 'kelinci']\n",
    "x = len(hewan)\n",
    "print(x)"
   ]
  },
  {
   "cell_type": "code",
   "execution_count": 32,
   "id": "ac7cd461",
   "metadata": {},
   "outputs": [
    {
     "name": "stdout",
     "output_type": "stream",
     "text": [
      "[2, 3, 4, 5, 6]\n"
     ]
    }
   ],
   "source": [
    "# SOAL NO 5\n",
    "angka = [0, 1, 2, 3, 4, 5, 6, 7, 8, 9]\n",
    "x = angka[2:7]\n",
    "print(x)"
   ]
  },
  {
   "cell_type": "code",
   "execution_count": 33,
   "id": "c73ad706",
   "metadata": {},
   "outputs": [
    {
     "name": "stdout",
     "output_type": "stream",
     "text": [
      "Jakarta\n",
      "Surabaya\n",
      "Bandung\n"
     ]
    }
   ],
   "source": [
    "# SOAL NO 6\n",
    "kota = ['Jakarta', 'Surabaya', 'Bandung']\n",
    "for nama in kota:\n",
    "    print(nama)"
   ]
  },
  {
   "cell_type": "code",
   "execution_count": 35,
   "id": "a6c99846",
   "metadata": {},
   "outputs": [
    {
     "name": "stdout",
     "output_type": "stream",
     "text": [
      "[1, 4, 9, 16, 25]\n"
     ]
    }
   ],
   "source": [
    "# SOAL NO 7\n",
    "angka = [1, 2, 3, 4, 5]\n",
    "pangkat = [x**2 for x in angka]\n",
    "print(pangkat)"
   ]
  },
  {
   "cell_type": "code",
   "execution_count": 37,
   "id": "5821e522",
   "metadata": {},
   "outputs": [
    {
     "name": "stdout",
     "output_type": "stream",
     "text": [
      "5\n"
     ]
    }
   ],
   "source": [
    "# SOAL NO 8\n",
    "matriks = [[1, 2, 3], [4, 5, 6], [7, 8, 9]]\n",
    "print(matriks[1][1])"
   ]
  },
  {
   "cell_type": "markdown",
   "id": "7254b2c2",
   "metadata": {},
   "source": [
    "# Dictionaries (***Mapping Data Type***)"
   ]
  },
  {
   "cell_type": "markdown",
   "id": "016aafe0",
   "metadata": {},
   "source": [
    "## Membuat Dictionaries\n",
    "- Membuat dictionary di Python sangat mudah. Anda hanya perlu menggunakan tanda kurung kurawal dan memisahkan setiap pasangan kunci-nilai dengan koma. Setiap kunci dan nilainya dipisahkan dengan titik dua."
   ]
  },
  {
   "cell_type": "code",
   "execution_count": 1,
   "id": "e7403799",
   "metadata": {},
   "outputs": [
    {
     "data": {
      "text/plain": [
       "{'nama': 'Budi', 'umur': 25, 'pekerjaan': 'Programmer'}"
      ]
     },
     "execution_count": 1,
     "metadata": {},
     "output_type": "execute_result"
    }
   ],
   "source": [
    "# Contoh pembuatan dictionary\n",
    "my_dict = {'nama': 'Budi', 'umur': 25, 'pekerjaan': 'Programmer'}\n",
    "my_dict"
   ]
  },
  {
   "cell_type": "markdown",
   "id": "91fd0e5e",
   "metadata": {},
   "source": [
    "## Mengakses Nilai dalam Dictionaries\n",
    "- Anda dapat mengakses nilai dalam dictionary menggunakan kunci yang bersesuaian."
   ]
  },
  {
   "cell_type": "code",
   "execution_count": 24,
   "id": "133cca7d",
   "metadata": {},
   "outputs": [
    {
     "name": "stdout",
     "output_type": "stream",
     "text": [
      "Budi\n",
      "Programmer\n"
     ]
    }
   ],
   "source": [
    "my_dict = {'nama': 'Budi', 'umur': 25, 'pekerjaan': 'Programmer'}\n",
    "print(my_dict['nama'])  \n",
    "print(my_dict['pekerjaan']) "
   ]
  },
  {
   "cell_type": "markdown",
   "id": "5c195d2f",
   "metadata": {},
   "source": [
    "## Mengganti Nilai dalam Dictionaries\n",
    "- Karena dictionaries bersifat mutable, Anda dapat mengganti nilai dalam dictionary dengan mudah."
   ]
  },
  {
   "cell_type": "code",
   "execution_count": 22,
   "id": "25a4d0f6",
   "metadata": {},
   "outputs": [
    {
     "name": "stdout",
     "output_type": "stream",
     "text": [
      "{'nama': 'Budi', 'umur': 26, 'pekerjaan': 'Programmer'}\n"
     ]
    }
   ],
   "source": [
    "my_dict = {'nama': 'Budi', 'umur': 25, 'pekerjaan': 'Programmer'}\n",
    "my_dict['umur'] = 26\n",
    "print(my_dict)  # Output: {'nama': 'Budi', 'umur': 26, 'pekerjaan': 'Programmer'}"
   ]
  },
  {
   "cell_type": "markdown",
   "id": "45032143",
   "metadata": {},
   "source": [
    "## Menambahkan Pasangan Kunci-Nilai ke Dictionaries\n",
    "- Anda dapat menambahkan pasangan kunci-nilai baru ke dictionary dengan menginisialisasi nilai baru menggunakan kunci baru."
   ]
  },
  {
   "cell_type": "code",
   "execution_count": 23,
   "id": "5ea9979b",
   "metadata": {},
   "outputs": [
    {
     "name": "stdout",
     "output_type": "stream",
     "text": [
      "{'nama': 'Budi', 'umur': 25, 'pekerjaan': 'Programmer', 'kota': 'Jakarta'}\n"
     ]
    }
   ],
   "source": [
    "my_dict = {'nama': 'Budi', 'umur': 25, 'pekerjaan': 'Programmer'}\n",
    "my_dict['kota'] = 'Jakarta'\n",
    "print(my_dict)  # Output: {'nama': 'Budi', 'umur': 25, 'pekerjaan': 'Programmer', 'kota': 'Jakarta'}"
   ]
  },
  {
   "cell_type": "markdown",
   "id": "0a48a8a5",
   "metadata": {},
   "source": [
    "## Menghapus Pasangan Kunci-Nilai dari Dictionaries\n",
    "- Anda dapat menghapus pasangan kunci-nilai dari dictionary dengan menggunakan perintah `del`."
   ]
  },
  {
   "cell_type": "code",
   "execution_count": 24,
   "id": "8043b55d",
   "metadata": {},
   "outputs": [
    {
     "name": "stdout",
     "output_type": "stream",
     "text": [
      "{'nama': 'Budi', 'umur': 25, 'pekerjaan': 'Programmer'}\n"
     ]
    }
   ],
   "source": [
    "my_dict = {'nama': 'Budi', 'umur': 25, 'pekerjaan': 'Programmer', 'kota': 'Jakarta'}\n",
    "del my_dict['kota']\n",
    "print(my_dict)  # Output: {'nama': 'Budi', 'umur': 25, 'pekerjaan': 'Programmer'}"
   ]
  },
  {
   "cell_type": "markdown",
   "id": "acc48bed",
   "metadata": {},
   "source": [
    "## Metode Dictionaries\n",
    "Beberapa metode yang sering digunakan pada dictionaries antara lain: keys(), values(), items(), get(), update(), pop(), dan clear()."
   ]
  },
  {
   "cell_type": "markdown",
   "id": "185d29db",
   "metadata": {},
   "source": [
    "## Metode keys()\n",
    "- ***keys()*** mengembalikan list kunci dalam dictionary"
   ]
  },
  {
   "cell_type": "code",
   "execution_count": 1,
   "id": "b9c6bc21",
   "metadata": {},
   "outputs": [
    {
     "data": {
      "text/plain": [
       "dict_keys(['nama', 'umur', 'pekerjaan'])"
      ]
     },
     "execution_count": 1,
     "metadata": {},
     "output_type": "execute_result"
    }
   ],
   "source": [
    "my_dict = {'nama': 'Budi', 'umur': 25, 'pekerjaan': 'Programmer'}\n",
    "\n",
    "my_dict.keys()"
   ]
  },
  {
   "cell_type": "markdown",
   "id": "c12e30f9",
   "metadata": {},
   "source": [
    "## Metode values()\n",
    "- ***values()*** mengembalikan list nilai dalam dictionary"
   ]
  },
  {
   "cell_type": "code",
   "execution_count": 26,
   "id": "a966238e",
   "metadata": {},
   "outputs": [
    {
     "data": {
      "text/plain": [
       "dict_values(['Budi', 25, 'Programmer'])"
      ]
     },
     "execution_count": 26,
     "metadata": {},
     "output_type": "execute_result"
    }
   ],
   "source": [
    "my_dict.values()"
   ]
  },
  {
   "cell_type": "markdown",
   "id": "e4be5317",
   "metadata": {},
   "source": [
    "## Metode items()\n",
    "- ***items()*** mengembalikan list pasangan kunci-nilai dalam bentuk tuple"
   ]
  },
  {
   "cell_type": "code",
   "execution_count": 27,
   "id": "dbf67603",
   "metadata": {},
   "outputs": [
    {
     "data": {
      "text/plain": [
       "dict_items([('nama', 'Budi'), ('umur', 25), ('pekerjaan', 'Programmer')])"
      ]
     },
     "execution_count": 27,
     "metadata": {},
     "output_type": "execute_result"
    }
   ],
   "source": [
    "my_dict.items()"
   ]
  },
  {
   "cell_type": "markdown",
   "id": "c6590b5c",
   "metadata": {},
   "source": [
    "## Metode get()\n",
    "- ***get()*** mengembalikan nilai untuk kunci yang diberikan, atau nilai default jika kunci tidak ditemukan"
   ]
  },
  {
   "cell_type": "code",
   "execution_count": 28,
   "id": "381a6cfe",
   "metadata": {},
   "outputs": [
    {
     "name": "stdout",
     "output_type": "stream",
     "text": [
      "Budi\n",
      "Tidak ditemukan\n"
     ]
    }
   ],
   "source": [
    "print(my_dict.get('nama', 'Tidak ditemukan'))  # Output: Budi\n",
    "print(my_dict.get('alamat', 'Tidak ditemukan'))  # Output: Tidak ditemukan"
   ]
  },
  {
   "cell_type": "markdown",
   "id": "5fb4012a",
   "metadata": {},
   "source": [
    "## Metode update()\n",
    "- ***update()*** menggabungkan dua dictionary"
   ]
  },
  {
   "cell_type": "code",
   "execution_count": 29,
   "id": "b78fa855",
   "metadata": {},
   "outputs": [
    {
     "data": {
      "text/plain": [
       "{'nama': 'Budi', 'umur': 25, 'pekerjaan': 'Programmer', 'kota': 'Jakarta'}"
      ]
     },
     "execution_count": 29,
     "metadata": {},
     "output_type": "execute_result"
    }
   ],
   "source": [
    "dict1 = {'nama': 'Budi', 'umur': 25}\n",
    "dict2 = {'pekerjaan': 'Programmer', 'kota': 'Jakarta'}\n",
    "dict1.update(dict2)\n",
    "dict1"
   ]
  },
  {
   "cell_type": "markdown",
   "id": "b58f7404",
   "metadata": {},
   "source": [
    "## Metode pop()\n",
    "- ***pop()*** menghapus pasangan kunci-nilai berdasarkan kunci yang diberikan dan mengembalikan nilai yang diberikan saja"
   ]
  },
  {
   "cell_type": "code",
   "execution_count": 30,
   "id": "3e7718c6",
   "metadata": {},
   "outputs": [
    {
     "name": "stdout",
     "output_type": "stream",
     "text": [
      "25\n",
      "{'nama': 'Budi', 'pekerjaan': 'Programmer'}\n"
     ]
    }
   ],
   "source": [
    "umur = my_dict.pop('umur')\n",
    "print(umur)  # Output: 25\n",
    "print(my_dict)  # Output: {'nama': 'Budi', 'pekerjaan': 'Programmer'}"
   ]
  },
  {
   "cell_type": "markdown",
   "id": "1dd84ed8",
   "metadata": {},
   "source": [
    "## Metode clear()\n",
    "- ***clear()*** menghapus semua pasangan kunci-nilai dalam dictionary"
   ]
  },
  {
   "cell_type": "code",
   "execution_count": 31,
   "id": "c6514081",
   "metadata": {
    "scrolled": true
   },
   "outputs": [
    {
     "name": "stdout",
     "output_type": "stream",
     "text": [
      "{}\n"
     ]
    }
   ],
   "source": [
    "my_dict.clear()\n",
    "print(my_dict)"
   ]
  },
  {
   "cell_type": "markdown",
   "id": "263fcb15",
   "metadata": {},
   "source": [
    "## Iterasi pada Dictionaries\n",
    "- Anda dapat mengiterasi pasangan kunci-nilai dalam dictionary menggunakan loop `for`."
   ]
  },
  {
   "cell_type": "code",
   "execution_count": 32,
   "id": "70918d75",
   "metadata": {
    "scrolled": true
   },
   "outputs": [
    {
     "name": "stdout",
     "output_type": "stream",
     "text": [
      "nama: Budi\n",
      "umur: 25\n",
      "pekerjaan: Programmer\n"
     ]
    }
   ],
   "source": [
    "my_dict = {'nama': 'Budi', 'umur': 25, 'pekerjaan': 'Programmer'}\n",
    "\n",
    "for key, value in my_dict.items():\n",
    "    print(f\"{key}: {value}\")"
   ]
  },
  {
   "cell_type": "markdown",
   "id": "7e66863f",
   "metadata": {},
   "source": [
    "# Soal Dictionaries"
   ]
  },
  {
   "cell_type": "markdown",
   "id": "51902655",
   "metadata": {},
   "source": [
    "Berikut merupakan soal latihan yang harus di jawab ketika kelas berlangsung\n",
    "\n",
    "0) Jelaskan Apa Itu Dictionaries?\n",
    "\n",
    "1) Pendahuluan Dictionaries: Buatlah sebuah dictionary yang menyimpan informasi tentang diri Anda, seperti nama, umur, dan kota.\n",
    "\n",
    "2) Akses Elemen Dictionaries: Diberikan dictionary kendaraan = {'mobil': 5, 'motor': 10, 'sepeda': 3}, akses jumlah motor dalam dictionary tersebut.\n",
    "\n",
    "3) Manipulasi Dictionaries: Diberikan dictionary stok_buku = {'Matematika': 10, 'Fisika': 8, 'Biologi': 15}, tambahkan elemen baru ke dalam dictionary dengan kunci 'Kimia' dan nilai 12.\n",
    "\n",
    "4) Menggabungkan Dictionaries: Gabungkan dua dictionaries berikut menjadi satu dictionary baru: dict1 = {'a': 1, 'b': 2} dan dict2 = {'c': 3, 'd': 4}.\n",
    "\n",
    "5) Fungsi dan Metode Dictionaries: Gunakan metode keys() untuk mengambil semua kunci dari dictionary harga = {'nasi': 5000, 'ayam': 15000, 'tempe': 4000}.\n",
    "\n",
    "6) Fungsi dan Metode Dictionaries: Gunakan metode values() untuk mengambil semua kunci dari dictionary harga = {'nasi': 5000, 'ayam': 15000, 'tempe': 4000}."
   ]
  },
  {
   "cell_type": "code",
   "execution_count": 4,
   "id": "876cc677",
   "metadata": {},
   "outputs": [
    {
     "name": "stdout",
     "output_type": "stream",
     "text": [
      "{'nama': 'yan', 'umur': 28, 'kota': 'solo'}\n"
     ]
    }
   ],
   "source": [
    "# SOAL NO 1\n",
    "my_dict ={'nama':'yan', 'umur': 28,'kota':'solo'}\n",
    "print(my_dict)"
   ]
  },
  {
   "cell_type": "code",
   "execution_count": 6,
   "id": "ea86e28d",
   "metadata": {},
   "outputs": [
    {
     "name": "stdout",
     "output_type": "stream",
     "text": [
      "10\n"
     ]
    }
   ],
   "source": [
    "# SOAL NO 2\n",
    "kendaraan = {'mobil': 5, 'motor': 10, 'sepeda': 3}\n",
    "print(kendaraan.pop('motor'))"
   ]
  },
  {
   "cell_type": "code",
   "execution_count": 9,
   "id": "0f6f5101",
   "metadata": {},
   "outputs": [
    {
     "name": "stdout",
     "output_type": "stream",
     "text": [
      "{'Matematika': 10, 'Fisika': 8, 'Biologi': 15, 'Kimia': 12}\n"
     ]
    }
   ],
   "source": [
    "# SOAL NO 3\n",
    "stok_buku = {'Matematika': 10, 'Fisika': 8, 'Biologi': 15}\n",
    "stok_buku['Kimia']=12\n",
    "print(stok_buku)"
   ]
  },
  {
   "cell_type": "code",
   "execution_count": 12,
   "id": "60ac4aa1",
   "metadata": {},
   "outputs": [
    {
     "name": "stdout",
     "output_type": "stream",
     "text": [
      "{'a': 1, 'b': 2, 'c': 3, 'd': 4}\n",
      "{'a': 1, 'b': 2, 'c': 3, 'd': 4}\n"
     ]
    }
   ],
   "source": [
    "# SOAL NO 4\n",
    "dict1 = {'a': 1, 'b': 2}\n",
    "dict2 = {'c': 3, 'd': 4}\n",
    "dict1.update(dict2)\n",
    "print(dict1)\n",
    "\n",
    "dict3={**dict1,**dict2}\n",
    "print(dict3)"
   ]
  },
  {
   "cell_type": "code",
   "execution_count": 13,
   "id": "51c34496",
   "metadata": {},
   "outputs": [
    {
     "name": "stdout",
     "output_type": "stream",
     "text": [
      "dict_keys(['nasi', 'ayam', 'tempe'])\n"
     ]
    }
   ],
   "source": [
    "# SOAL NO 5\n",
    "harga = {'nasi': 5000, 'ayam': 15000, 'tempe': 4000}\n",
    "print(harga.keys())"
   ]
  },
  {
   "cell_type": "code",
   "execution_count": 14,
   "id": "ea82e535",
   "metadata": {},
   "outputs": [
    {
     "name": "stdout",
     "output_type": "stream",
     "text": [
      "dict_values([5000, 15000, 4000])\n"
     ]
    }
   ],
   "source": [
    "# SOAL NO 6\n",
    "harga = {'nasi': 5000, 'ayam': 15000, 'tempe': 4000}\n",
    "print(harga.values())"
   ]
  },
  {
   "cell_type": "markdown",
   "id": "26c8434a",
   "metadata": {},
   "source": [
    "# Tuples (***Sequence***)"
   ]
  },
  {
   "cell_type": "markdown",
   "id": "3005f8f6",
   "metadata": {},
   "source": [
    "## Mengakses Elemen dalam Tuples\n",
    "- Anda dapat mengakses elemen dalam tuple menggunakan indeks yang bersesuaian."
   ]
  },
  {
   "cell_type": "code",
   "execution_count": 33,
   "id": "cdf0a7bc",
   "metadata": {},
   "outputs": [
    {
     "name": "stdout",
     "output_type": "stream",
     "text": [
      "apel\n",
      "pisang\n"
     ]
    }
   ],
   "source": [
    "my_tuple = ('apel', 'pisang', 'jeruk')\n",
    "print(my_tuple[0])  # Output: apel\n",
    "print(my_tuple[1])  # Output: pisang"
   ]
  },
  {
   "cell_type": "markdown",
   "id": "895d20b0",
   "metadata": {},
   "source": [
    "##  Tuple Slicing\n",
    "- Sama seperti list, Anda dapat melakukan slicing pada tuple untuk mengambil sebagian elemen dalam tuple."
   ]
  },
  {
   "cell_type": "code",
   "execution_count": 25,
   "id": "e9c8bf67",
   "metadata": {},
   "outputs": [
    {
     "name": "stdout",
     "output_type": "stream",
     "text": [
      "('pisang', 'jeruk', 'mangga')\n"
     ]
    }
   ],
   "source": [
    "my_tuple = ('apel', 'pisang', 'jeruk', 'mangga', 'anggur')\n",
    "sub_tuple = my_tuple[1:4]\n",
    "print(sub_tuple)  # Output: ('pisang', 'jeruk', 'mangga')"
   ]
  },
  {
   "cell_type": "markdown",
   "id": "f6df57d1",
   "metadata": {},
   "source": [
    "## Immutable\n",
    "- Tuple bersifat immutable, yang berarti Anda tidak dapat mengubah elemen tuple setelah tuple dibuat. Operasi berikut akan menghasilkan error:"
   ]
  },
  {
   "cell_type": "code",
   "execution_count": 35,
   "id": "18d2c030",
   "metadata": {},
   "outputs": [],
   "source": [
    "# my_tuple = ('apel', 'pisang', 'jeruk')\n",
    "# my_tuple[0] = 'mangga'  # Error: TypeError: 'tuple' object does not support item assignment"
   ]
  },
  {
   "cell_type": "markdown",
   "id": "d4bed8c6",
   "metadata": {},
   "source": [
    "## Fungsi len() untuk Tuple\n",
    "- Anda dapat menggunakan fungsi ***len()*** untuk mengetahui jumlah elemen dalam tuple."
   ]
  },
  {
   "cell_type": "code",
   "execution_count": 28,
   "id": "a1f55323",
   "metadata": {},
   "outputs": [
    {
     "name": "stdout",
     "output_type": "stream",
     "text": [
      "3\n"
     ]
    }
   ],
   "source": [
    "my_tuple = ('apel', 'pisang', 'jeruk')\n",
    "print(len(my_tuple))  # Output: 3"
   ]
  },
  {
   "cell_type": "markdown",
   "id": "0847c992",
   "metadata": {},
   "source": [
    " ## Tuple Concatenation\n",
    " - Anda dapat menggabungkan beberapa tuple untuk membuat tuple baru."
   ]
  },
  {
   "cell_type": "code",
   "execution_count": 37,
   "id": "2b578b17",
   "metadata": {},
   "outputs": [
    {
     "name": "stdout",
     "output_type": "stream",
     "text": [
      "(1, 2, 3, 4, 5, 6)\n"
     ]
    }
   ],
   "source": [
    "tuple1 = (1, 2, 3)\n",
    "tuple2 = (4, 5, 6)\n",
    "concat_tuple = tuple1 + tuple2\n",
    "print(concat_tuple)  # Output: (1, 2, 3, 4, 5, 6)"
   ]
  },
  {
   "cell_type": "markdown",
   "id": "2fd3d7c6",
   "metadata": {},
   "source": [
    "## Fungsi min() dan max()\n",
    "- Fungsi ***min()*** dan ***max()*** digunakan untuk menemukan elemen terkecil dan terbesar dalam tuple. Kedua fungsi ini hanya dapat digunakan pada tuple yang berisi elemen yang dapat dibandingkan."
   ]
  },
  {
   "cell_type": "code",
   "execution_count": 38,
   "id": "143ad01b",
   "metadata": {},
   "outputs": [
    {
     "name": "stdout",
     "output_type": "stream",
     "text": [
      "1\n",
      "5\n"
     ]
    }
   ],
   "source": [
    "my_tuple = (1, 2, 3, 4, 5)\n",
    "print(min(my_tuple))  # Output: 1\n",
    "print(max(my_tuple))  # Output: 5"
   ]
  },
  {
   "cell_type": "markdown",
   "id": "07b448f8",
   "metadata": {},
   "source": [
    "## Mengubah Tuple menjadi List dan sebaliknya\n",
    "- Anda dapat mengubah tuple menjadi list atau sebaliknya dengan menggunakan fungsi ***list()*** dan ***tuple()***"
   ]
  },
  {
   "cell_type": "code",
   "execution_count": 39,
   "id": "89e432d2",
   "metadata": {},
   "outputs": [
    {
     "name": "stdout",
     "output_type": "stream",
     "text": [
      "['apel', 'pisang', 'jeruk']\n",
      "('mangga', 'anggur', 'semangka')\n"
     ]
    }
   ],
   "source": [
    "my_tuple = ('apel', 'pisang', 'jeruk')\n",
    "my_list = list(my_tuple)\n",
    "print(my_list)  # Output: ['apel', 'pisang', 'jeruk']\n",
    "\n",
    "my_list = ['mangga', 'anggur', 'semangka']\n",
    "my_tuple = tuple(my_list)\n",
    "print(my_tuple)  # Output: ('mangga', 'anggur', 'semangka')"
   ]
  },
  {
   "cell_type": "markdown",
   "id": "42e6ec4c",
   "metadata": {},
   "source": [
    "## Unpacking Tuple\n",
    "- Tuple unpacking adalah proses untuk mengekstrak elemen tuple ke dalam variabel terpisah."
   ]
  },
  {
   "cell_type": "code",
   "execution_count": 40,
   "id": "da149b92",
   "metadata": {},
   "outputs": [
    {
     "name": "stdout",
     "output_type": "stream",
     "text": [
      "Budi\n",
      "25\n",
      "Programmer\n"
     ]
    }
   ],
   "source": [
    "my_tuple = ('Budi', 25, 'Programmer')\n",
    "nama, umur, pekerjaan = my_tuple\n",
    "\n",
    "print(nama)       # Output: Budi\n",
    "print(umur)       # Output: 25\n",
    "print(pekerjaan)  # Output: Programmer"
   ]
  },
  {
   "cell_type": "markdown",
   "id": "969ecdd1",
   "metadata": {},
   "source": [
    "## Enumerate\n",
    "- Fungsi ***enumerate()*** dapat digunakan untuk mengiterasi tuple sambil mendapatkan indeks dan elemen pada posisi tersebut."
   ]
  },
  {
   "cell_type": "code",
   "execution_count": 41,
   "id": "233e1906",
   "metadata": {
    "scrolled": true
   },
   "outputs": [
    {
     "name": "stdout",
     "output_type": "stream",
     "text": [
      "1. apel\n",
      "2. pisang\n",
      "3. jeruk\n",
      "4. mangga\n"
     ]
    }
   ],
   "source": [
    "fruits = ('apel', 'pisang', 'jeruk', 'mangga')\n",
    "\n",
    "for index, fruit in enumerate(fruits):\n",
    "    print(f\"{index + 1}. {fruit}\")"
   ]
  },
  {
   "cell_type": "markdown",
   "id": "e12e791e",
   "metadata": {},
   "source": [
    "# Soal Tuple"
   ]
  },
  {
   "cell_type": "markdown",
   "id": "4600916d",
   "metadata": {},
   "source": [
    "Berikut merupakan soal latihan yang harus di jawab ketika kelas berlangsung\n",
    "\n",
    "0) Jelaskan Apa Itu Tuples\n",
    "\n",
    "1) Pendahuluan Tuples: Buatlah 5 element tuple yang berisi nama-nama merek elektronik yang anda ketahui.\n",
    "\n",
    "2) Akses Elemen Tuples: Diberikan tuple angka = (10, 20, 30, 40, 50), akses elemen ketiga dari tuple tersebut.\n",
    "\n",
    "3) Manipulasi Tuples: Diberikan tuple buah = ('apel', 'jeruk', 'mangga'), jelaskan mengapa Anda tidak dapat menambahkan elemen 'pisang' ke dalam tuple.\n",
    "\n",
    "4) Penggabungan Tuples: Gabungkan dua tuple berikut menjadi satu tuple baru: tuple1 = (1, 2, 3) dan tuple2 = (4, 5, 6).\n",
    "\n",
    "5) Fungsi Tuple: Gunakan fungsi len() untuk menghitung panjang dari tuple hewan = ('kucing', 'anjing', 'kelinci'), dan berapa jumlah element dalam tuple?.\n",
    "\n",
    "6) Slicing Tuples: Diberikan tuple angka = (0, 1, 2, 3, 4, 5, 6, 7, 8, 9), ambil elemen dari indeks 2 hingga 7 (ekslusif)."
   ]
  },
  {
   "cell_type": "code",
   "execution_count": 16,
   "id": "b0e08f12",
   "metadata": {},
   "outputs": [
    {
     "name": "stdout",
     "output_type": "stream",
     "text": [
      "('sony', 'nokia', 'samsung', 'motorola', 'lg')\n"
     ]
    }
   ],
   "source": [
    "# SOAL NO 1\n",
    "my_tuple = ('sony', 'nokia', 'samsung', 'motorola', 'lg')\n",
    "print(my_tuple)"
   ]
  },
  {
   "cell_type": "code",
   "execution_count": 18,
   "id": "7d0b09cf",
   "metadata": {},
   "outputs": [
    {
     "name": "stdout",
     "output_type": "stream",
     "text": [
      "30\n"
     ]
    }
   ],
   "source": [
    "# SOAL NO 2\n",
    "angka = (10, 20, 30, 40, 50)\n",
    "print(angka[2])"
   ]
  },
  {
   "cell_type": "code",
   "execution_count": 21,
   "id": "15dc7da1",
   "metadata": {},
   "outputs": [
    {
     "ename": "TypeError",
     "evalue": "can only concatenate tuple (not \"str\") to tuple",
     "output_type": "error",
     "traceback": [
      "\u001b[1;31m---------------------------------------------------------------------------\u001b[0m",
      "\u001b[1;31mTypeError\u001b[0m                                 Traceback (most recent call last)",
      "Cell \u001b[1;32mIn[21], line 4\u001b[0m\n\u001b[0;32m      2\u001b[0m buah \u001b[38;5;241m=\u001b[39m (\u001b[38;5;124m'\u001b[39m\u001b[38;5;124mapel\u001b[39m\u001b[38;5;124m'\u001b[39m, \u001b[38;5;124m'\u001b[39m\u001b[38;5;124mjeruk\u001b[39m\u001b[38;5;124m'\u001b[39m, \u001b[38;5;124m'\u001b[39m\u001b[38;5;124mmangga\u001b[39m\u001b[38;5;124m'\u001b[39m)\n\u001b[0;32m      3\u001b[0m buah2 \u001b[38;5;241m=\u001b[39m (\u001b[38;5;124m'\u001b[39m\u001b[38;5;124mpisang\u001b[39m\u001b[38;5;124m'\u001b[39m)\n\u001b[1;32m----> 4\u001b[0m buah3 \u001b[38;5;241m=\u001b[39m \u001b[43mbuah\u001b[49m\u001b[43m \u001b[49m\u001b[38;5;241;43m+\u001b[39;49m\u001b[43m \u001b[49m\u001b[43mbuah2\u001b[49m\n\u001b[0;32m      5\u001b[0m \u001b[38;5;28mprint\u001b[39m(buah3)\n",
      "\u001b[1;31mTypeError\u001b[0m: can only concatenate tuple (not \"str\") to tuple"
     ]
    }
   ],
   "source": [
    "# SOAL NO 3\n",
    "buah = ('apel', 'jeruk', 'mangga')\n",
    "buah2 = ('pisang')\n",
    "buah3 = buah + buah2\n",
    "print(buah3)\n",
    "# tidak bisa diedit, bahkan di gabung karena tipe string"
   ]
  },
  {
   "cell_type": "code",
   "execution_count": 22,
   "id": "0fb3f0f6",
   "metadata": {},
   "outputs": [
    {
     "name": "stdout",
     "output_type": "stream",
     "text": [
      "(1, 2, 3, 4, 5, 6)\n"
     ]
    }
   ],
   "source": [
    "# SOAL NO 4\n",
    "tuple1 = (1, 2, 3)\n",
    "tuple2 = (4, 5, 6)\n",
    "tuple3 = tuple1 + tuple2\n",
    "print(tuple3)"
   ]
  },
  {
   "cell_type": "code",
   "execution_count": 25,
   "id": "278bb614",
   "metadata": {},
   "outputs": [
    {
     "name": "stdout",
     "output_type": "stream",
     "text": [
      "3\n"
     ]
    }
   ],
   "source": [
    "# SOAL NO 5\n",
    "hewan = ('kucing', 'anjing', 'kelinci')\n",
    "print(len(hewan))"
   ]
  },
  {
   "cell_type": "code",
   "execution_count": 26,
   "id": "f53207b5",
   "metadata": {},
   "outputs": [
    {
     "name": "stdout",
     "output_type": "stream",
     "text": [
      "(2, 3, 4, 5, 6)\n"
     ]
    }
   ],
   "source": [
    "# SOAL NO 6\n",
    "angka = (0, 1, 2, 3, 4, 5, 6, 7, 8, 9)\n",
    "print(angka[2:7])"
   ]
  },
  {
   "cell_type": "markdown",
   "id": "5fe4433f",
   "metadata": {},
   "source": [
    "# Sets Data Type"
   ]
  },
  {
   "cell_type": "markdown",
   "id": "a765806b",
   "metadata": {},
   "source": [
    "# Membuat Sets \n",
    "- Membuat set di Python sangat mudah. Anda hanya perlu menggunakan tanda kurung kurawal dan memisahkan setiap elemen dengan koma. Anda juga bisa menggunakan fungsi ***set()*** untuk membuat set kosong atau mengonversi struktur data lain ke set."
   ]
  },
  {
   "cell_type": "code",
   "execution_count": 31,
   "id": "91b2cdd8",
   "metadata": {},
   "outputs": [
    {
     "name": "stdout",
     "output_type": "stream",
     "text": [
      "[1, 2, 3, 3, 4, 4]\n"
     ]
    }
   ],
   "source": [
    "# Contoh pembuatan set\n",
    "my_set = {1, 2, 3}\n",
    "\n",
    "# Membuat set kosong\n",
    "empty_set = set()\n",
    "\n",
    "# Mengonversi list ke set\n",
    "my_list = [1, 2, 3, 3, 4, 4]\n",
    "my_set = set(my_list)# Hasil: {1, 2, 3, 4}\n",
    "print(my_list)"
   ]
  },
  {
   "cell_type": "markdown",
   "id": "cadcc16a",
   "metadata": {},
   "source": [
    "## Menambahkan Elemen ke Sets\n",
    "- Anda dapat menambahkan elemen ke set menggunakan metode ***add().***"
   ]
  },
  {
   "cell_type": "code",
   "execution_count": 30,
   "id": "ea009252",
   "metadata": {},
   "outputs": [
    {
     "name": "stdout",
     "output_type": "stream",
     "text": [
      "{1, 2, 3, 4}\n"
     ]
    }
   ],
   "source": [
    "my_set = {1, 2, 3}\n",
    "my_set.add(4)\n",
    "print(my_set)  # Output: {1, 2, 3, 4}"
   ]
  },
  {
   "cell_type": "markdown",
   "id": "0ea8e3a7",
   "metadata": {},
   "source": [
    "## Menghapus Elemen dari Sets\n",
    "- Anda dapat menghapus elemen dari set menggunakan metode ***remove()*** atau ***discard().***"
   ]
  },
  {
   "cell_type": "code",
   "execution_count": 44,
   "id": "c30a341a",
   "metadata": {},
   "outputs": [
    {
     "name": "stdout",
     "output_type": "stream",
     "text": [
      "{1, 2, 4}\n",
      "{1, 2}\n"
     ]
    }
   ],
   "source": [
    "my_set = {1, 2, 3, 4}\n",
    "\n",
    "# Menggunakan remove() - akan menghasilkan KeyError jika elemen tidak ditemukan\n",
    "my_set.remove(3)\n",
    "print(my_set)  # Output: {1, 2, 4}\n",
    "\n",
    "# Menggunakan discard() - tidak menghasilkan error jika elemen tidak ditemukan\n",
    "my_set.discard(4)\n",
    "print(my_set)  # Output: {1, 2}"
   ]
  },
  {
   "cell_type": "markdown",
   "id": "f46c79f3",
   "metadata": {},
   "source": [
    "## Operasi Set\n",
    "- Python mendukung beberapa operasi set seperti `union`, `intersection`, `difference`, dan `symmetric difference`."
   ]
  },
  {
   "cell_type": "code",
   "execution_count": 42,
   "id": "e98fd094",
   "metadata": {},
   "outputs": [
    {
     "name": "stdout",
     "output_type": "stream",
     "text": [
      "{1, 2, 3, 4, 5, 6}\n",
      "{3, 4}\n",
      "{1, 2}\n",
      "{1, 2, 5, 6}\n"
     ]
    }
   ],
   "source": [
    "A = {1, 2, 3, 4}\n",
    "B = {3, 4, 5, 6}\n",
    "\n",
    "# Union\n",
    "union_set = A | B\n",
    "print(union_set)  # Output: {1, 2, 3, 4, 5, 6}\n",
    "\n",
    "# Intersection\n",
    "intersection_set = A & B\n",
    "print(intersection_set)  # Output: {3, 4}\n",
    "\n",
    "# Difference\n",
    "difference_set = A - B\n",
    "print(difference_set)  # Output: {1, 2}\n",
    "\n",
    "# Symmetric Difference\n",
    "symmetric_difference_set = A ^ B\n",
    "print(symmetric_difference_set)  # Output: {1, 2, 5, 6}"
   ]
  },
  {
   "cell_type": "markdown",
   "id": "93bf02f4",
   "metadata": {},
   "source": [
    "## Fungsi len() untuk Set\n",
    "- Anda dapat menggunakan fungsi ***len()*** untuk mengetahui jumlah elemen dalam set."
   ]
  },
  {
   "cell_type": "code",
   "execution_count": 46,
   "id": "8b785388",
   "metadata": {},
   "outputs": [
    {
     "name": "stdout",
     "output_type": "stream",
     "text": [
      "4\n"
     ]
    }
   ],
   "source": [
    "my_set = {1, 2, 3, 4}\n",
    "print(len(my_set))  # Output: 4"
   ]
  },
  {
   "cell_type": "markdown",
   "id": "3b73ca6d",
   "metadata": {},
   "source": [
    "## Mengetahui Keanggotaan Elemen dalam Set\n",
    "- Anda dapat mengecek apakah suatu elemen ada dalam set menggunakan operator in."
   ]
  },
  {
   "cell_type": "code",
   "execution_count": 47,
   "id": "959ca473",
   "metadata": {},
   "outputs": [
    {
     "name": "stdout",
     "output_type": "stream",
     "text": [
      "True\n",
      "False\n"
     ]
    }
   ],
   "source": [
    "my_set = {1, 2, 3, 4}\n",
    "\n",
    "# Mengecek keanggotaan elemen\n",
    "print(1 in my_set)  # Output: True\n",
    "print(5 in my_set)  # Output: False"
   ]
  },
  {
   "cell_type": "markdown",
   "id": "232cff08",
   "metadata": {},
   "source": [
    "## Iterasi pada Set\n",
    "- Anda dapat mengiterasi elemen-elemen dalam set menggunakan perulangan for."
   ]
  },
  {
   "cell_type": "code",
   "execution_count": 48,
   "id": "eaad9c9f",
   "metadata": {
    "scrolled": false
   },
   "outputs": [
    {
     "name": "stdout",
     "output_type": "stream",
     "text": [
      "apel\n",
      "jeruk\n",
      "pisang\n"
     ]
    }
   ],
   "source": [
    "my_set = {'apel', 'pisang', 'jeruk'}\n",
    "\n",
    "for fruit in my_set:\n",
    "    print(fruit)"
   ]
  },
  {
   "cell_type": "markdown",
   "id": "6301b032",
   "metadata": {},
   "source": [
    "# Soal Set"
   ]
  },
  {
   "cell_type": "markdown",
   "id": "28f59bf2",
   "metadata": {},
   "source": [
    "Berikut merupakan soal latihan yang harus di jawab ketika kelas berlangsung\n",
    "\n",
    "0) Jelaskan Apa Itu Set\n",
    "\n",
    "1) Pendahuluan Sets: Buatlah sebuah set yang berisi elemen-elemen berikut: 'apel', 3, 2.5.\n",
    "\n",
    "2) Akses Elemen Sets: Diberikan set elemen = {10, 'mangga', 3.14}, jelaskan mengapa Anda tidak dapat mengakses elemen kedua dari set tersebut.\n",
    "\n",
    "3) Manipulasi Sets: Diberikan set angka = {1, 2, 3}, tambahkan elemen 4 ke dalam set.\n",
    "\n",
    "4) Operasi Sets: Diberikan dua set set1 = {1, 2, 3, 'apel'} dan set2 = {2, 3, 4, 'mangga'}, temukan irisan (intersection) dari kedua set tersebut.\n",
    "\n",
    "5) Fungsi dan Metode Sets: Gunakan metode add() untuk menambahkan elemen 'jeruk' ke dalam set buah = {'apel', 'mangga', 'pisang'}.\n",
    "\n",
    "6) Perulangan Sets: Gunakan perulangan for untuk mencetak semua elemen dalam set kategori = {'makanan', 'minuman', 'snack'}."
   ]
  },
  {
   "cell_type": "code",
   "execution_count": 33,
   "id": "8d59853b",
   "metadata": {},
   "outputs": [
    {
     "name": "stdout",
     "output_type": "stream",
     "text": [
      "{2.5, 3, 'apel'}\n"
     ]
    }
   ],
   "source": [
    "my_set={'apel', 3,2.5}\n",
    "print (my_set)"
   ]
  },
  {
   "cell_type": "code",
   "execution_count": 39,
   "id": "bc48d8a3",
   "metadata": {},
   "outputs": [
    {
     "ename": "TypeError",
     "evalue": "'set' object is not subscriptable",
     "output_type": "error",
     "traceback": [
      "\u001b[1;31m---------------------------------------------------------------------------\u001b[0m",
      "\u001b[1;31mTypeError\u001b[0m                                 Traceback (most recent call last)",
      "Cell \u001b[1;32mIn[39], line 2\u001b[0m\n\u001b[0;32m      1\u001b[0m elemen \u001b[38;5;241m=\u001b[39m {\u001b[38;5;241m10\u001b[39m, \u001b[38;5;124m'\u001b[39m\u001b[38;5;124mmangga\u001b[39m\u001b[38;5;124m'\u001b[39m, \u001b[38;5;241m3.14\u001b[39m}\n\u001b[1;32m----> 2\u001b[0m \u001b[38;5;28mprint\u001b[39m(\u001b[43melemen\u001b[49m\u001b[43m[\u001b[49m\u001b[38;5;241;43m1\u001b[39;49m\u001b[43m]\u001b[49m)\n",
      "\u001b[1;31mTypeError\u001b[0m: 'set' object is not subscriptable"
     ]
    }
   ],
   "source": [
    "elemen = {10, 'mangga', 3.14}\n",
    "print(elemen[1])\n",
    "# tidak bisa diakses karena data set adalah data yang tidak terurut"
   ]
  },
  {
   "cell_type": "code",
   "execution_count": 41,
   "id": "ffcdd46e",
   "metadata": {},
   "outputs": [
    {
     "name": "stdout",
     "output_type": "stream",
     "text": [
      "{1, 2, 3, 4}\n"
     ]
    }
   ],
   "source": [
    "angka = {1, 2, 3}\n",
    "angka.add(4)\n",
    "print(angka)"
   ]
  },
  {
   "cell_type": "code",
   "execution_count": 43,
   "id": "a8ea94c7",
   "metadata": {},
   "outputs": [
    {
     "name": "stdout",
     "output_type": "stream",
     "text": [
      "{2, 3}\n"
     ]
    }
   ],
   "source": [
    "set1 = {1, 2, 3, 'apel'}\n",
    "set2 = {2, 3, 4, 'mangga'}\n",
    "irisan_set = set1 & set2\n",
    "print(irisan_set)"
   ]
  },
  {
   "cell_type": "code",
   "execution_count": 44,
   "id": "057bb344",
   "metadata": {},
   "outputs": [
    {
     "name": "stdout",
     "output_type": "stream",
     "text": [
      "{'mangga', 'jeruk', 'pisang', 'apel'}\n"
     ]
    }
   ],
   "source": [
    "buah = {'apel', 'mangga', 'pisang'}\n",
    "buah.add('jeruk')\n",
    "print(buah)"
   ]
  },
  {
   "cell_type": "code",
   "execution_count": 47,
   "id": "ccbf0aee",
   "metadata": {},
   "outputs": [
    {
     "name": "stdout",
     "output_type": "stream",
     "text": [
      "makanan\n",
      "snack\n",
      "minuman\n"
     ]
    }
   ],
   "source": [
    "kategori = {'makanan', 'minuman', 'snack'}\n",
    "for i in kategori:\n",
    "    print(i)"
   ]
  },
  {
   "cell_type": "markdown",
   "id": "8fbbd826",
   "metadata": {},
   "source": [
    "# Boolean Data Type"
   ]
  },
  {
   "cell_type": "markdown",
   "id": "bd4faf0f",
   "metadata": {},
   "source": [
    "## Relational Operator \n",
    "\n",
    "***Operator relasional*** digunakan untuk membandingkan dua nilai dan menghasilkan suatu kondisi boolean True atau False berdasarkan nilai perbandingan yang diberikan.\"\n",
    "\n",
    "- ***Sama dengan (==)***: Menghasilkan True jika kedua nilai sama\n",
    "- ***Tidak sama dengan (!=)***: Menghasilkan True jika kedua nilai tidak sama\n",
    "- ***Lebih besar (>)***: Menghasilkan True jika nilai pertama lebih besar dari nilai kedua\n",
    "- ***Lebih kecil (<)***: Menghasilkan True jika nilai pertama lebih kecil dari nilai kedua\n",
    "- ***Lebih besar atau sama dengan (>=)***: Menghasilkan True jika nilai pertama lebih besar atau sama dengan nilai kedua\n",
    "- ***Lebih kecil atau sama dengan (<=)***: Menghasilkan True jika nilai pertama lebih kecil atau sama dengan nilai kedua"
   ]
  },
  {
   "cell_type": "code",
   "execution_count": 49,
   "id": "e9a73648",
   "metadata": {},
   "outputs": [
    {
     "name": "stdout",
     "output_type": "stream",
     "text": [
      "False\n",
      "True\n",
      "True\n",
      "False\n",
      "False\n",
      "True\n"
     ]
    }
   ],
   "source": [
    "x = 5\n",
    "y = 10\n",
    "\n",
    "print(x == y)  # Output: False\n",
    "print(x != y)  # Output: True\n",
    "print(x < y)   # Output: True\n",
    "print(x > y)   # Output: False\n",
    "print(x >= y)  # Output: False\n",
    "print(x <= y)  # Output: True"
   ]
  },
  {
   "cell_type": "markdown",
   "id": "7f72dd68",
   "metadata": {},
   "source": [
    "## Logical Operator \n",
    "\n",
    "***Operator logika*** digunakan untuk menggabungkan atau membandingkan pernyataan boolean.\n",
    "\n",
    "- ***and***: Menghasilkan True jika kedua pernyataan benar.\n",
    "- ***or***: Menghasilkan True jika salah satu pernyataan benar.\n",
    "- ***not***: Menghasilkan True jika pernyataan tersebut salah."
   ]
  },
  {
   "cell_type": "code",
   "execution_count": 50,
   "id": "3ec3c445",
   "metadata": {},
   "outputs": [
    {
     "name": "stdout",
     "output_type": "stream",
     "text": [
      "False\n",
      "True\n",
      "False\n",
      "True\n"
     ]
    }
   ],
   "source": [
    "x = True\n",
    "y = False\n",
    "\n",
    "print(x and y)  # Output: False\n",
    "print(x or y)   # Output: True\n",
    "print(not x)    # Output: False\n",
    "print(not y)    # Output: True"
   ]
  },
  {
   "cell_type": "markdown",
   "id": "7b1a946e",
   "metadata": {},
   "source": [
    "## Penggunaan Boolean dalam Kondisional\n",
    "- Boolean sering digunakan dalam pengujian kondisi menggunakan pernyataan if, elif, dan else."
   ]
  },
  {
   "cell_type": "code",
   "execution_count": 51,
   "id": "4734c8b0",
   "metadata": {},
   "outputs": [
    {
     "name": "stdout",
     "output_type": "stream",
     "text": [
      "x lebih besar dari 5\n"
     ]
    }
   ],
   "source": [
    "x = 10\n",
    "\n",
    "if x > 5:\n",
    "    print(\"x lebih besar dari 5\")\n",
    "else:\n",
    "    print(\"x lebih kecil atau sama dengan 5\")"
   ]
  },
  {
   "cell_type": "markdown",
   "id": "9455113a",
   "metadata": {},
   "source": [
    "# Soal Boolean"
   ]
  },
  {
   "cell_type": "markdown",
   "id": "6916af61",
   "metadata": {},
   "source": [
    "## Conditional Boolean\n",
    "- Diberikan tiga variabel dengan nilai sebagai berikut:\n",
    "\n",
    "- kategori = 'makanan'\n",
    "- harga = 15000\n",
    "- berat = 0.5  # dalam kilogram\n",
    "\n",
    "Buatlah sebuah kondisional yang mengevaluasi apakah kategori sama dengan 'makanan', harga lebih kecil atau sama dengan 20000, dan berat lebih besar dari 0.3. Jika kondisi ini terpenuhi, cetak \"Item diterima\", jika tidak, cetak \"Item ditolak\"."
   ]
  },
  {
   "cell_type": "code",
   "execution_count": 51,
   "id": "1dfe13a1",
   "metadata": {},
   "outputs": [
    {
     "name": "stdout",
     "output_type": "stream",
     "text": [
      "item diterima\n"
     ]
    }
   ],
   "source": [
    "# Jawaban Soal Conditional Boolean\n",
    "kategori = 'makanan'\n",
    "harga = 15000\n",
    "berat = 0.5\n",
    "\n",
    "if kategori == 'makanan'and harga <= 20000 and berat > 0.3:\n",
    "    print(\"item diterima\")\n",
    "else:\n",
    "    print(\"item ditolak\")"
   ]
  },
  {
   "cell_type": "markdown",
   "id": "31ba664c",
   "metadata": {},
   "source": [
    "<!-- kategori = 'makanan'\n",
    "harga = 15000\n",
    "berat = 0.5  # dalam kilogram\n",
    "\n",
    "if kategori == 'makanan' and harga <= 20000 and berat > 0.3:\n",
    "    print(\"Item diterima\")\n",
    "else:\n",
    "    print(\"Item ditolak\") -->"
   ]
  },
  {
   "cell_type": "markdown",
   "id": "09fe4e5c",
   "metadata": {},
   "source": [
    "## Boolean Relational dan Logical Operator\n",
    "Pada contoh di bawah, kita membuat DataFrame dengan data mahasiswa yang mencakup nama, umur, dan IPK. Kemudian, kita menggunakan operator relasional dan logika untuk menyaring data berdasarkan kriteria tertentu (umur dan IPK)."
   ]
  },
  {
   "cell_type": "code",
   "execution_count": 53,
   "id": "5c1feaee",
   "metadata": {
    "scrolled": true
   },
   "outputs": [
    {
     "data": {
      "text/html": [
       "<div>\n",
       "<style scoped>\n",
       "    .dataframe tbody tr th:only-of-type {\n",
       "        vertical-align: middle;\n",
       "    }\n",
       "\n",
       "    .dataframe tbody tr th {\n",
       "        vertical-align: top;\n",
       "    }\n",
       "\n",
       "    .dataframe thead th {\n",
       "        text-align: right;\n",
       "    }\n",
       "</style>\n",
       "<table border=\"1\" class=\"dataframe\">\n",
       "  <thead>\n",
       "    <tr style=\"text-align: right;\">\n",
       "      <th></th>\n",
       "      <th>Nama</th>\n",
       "      <th>Umur</th>\n",
       "      <th>IPK</th>\n",
       "    </tr>\n",
       "  </thead>\n",
       "  <tbody>\n",
       "    <tr>\n",
       "      <th>0</th>\n",
       "      <td>Budi</td>\n",
       "      <td>21</td>\n",
       "      <td>3.5</td>\n",
       "    </tr>\n",
       "    <tr>\n",
       "      <th>1</th>\n",
       "      <td>Ani</td>\n",
       "      <td>20</td>\n",
       "      <td>3.8</td>\n",
       "    </tr>\n",
       "    <tr>\n",
       "      <th>2</th>\n",
       "      <td>Rina</td>\n",
       "      <td>23</td>\n",
       "      <td>3.3</td>\n",
       "    </tr>\n",
       "    <tr>\n",
       "      <th>3</th>\n",
       "      <td>Dedi</td>\n",
       "      <td>19</td>\n",
       "      <td>3.9</td>\n",
       "    </tr>\n",
       "    <tr>\n",
       "      <th>4</th>\n",
       "      <td>Eko</td>\n",
       "      <td>22</td>\n",
       "      <td>3.1</td>\n",
       "    </tr>\n",
       "  </tbody>\n",
       "</table>\n",
       "</div>"
      ],
      "text/plain": [
       "   Nama  Umur  IPK\n",
       "0  Budi    21  3.5\n",
       "1   Ani    20  3.8\n",
       "2  Rina    23  3.3\n",
       "3  Dedi    19  3.9\n",
       "4   Eko    22  3.1"
      ]
     },
     "execution_count": 53,
     "metadata": {},
     "output_type": "execute_result"
    }
   ],
   "source": [
    "import pandas as pd\n",
    "data = {\n",
    "    'Nama': ['Budi', 'Ani', 'Rina', 'Dedi', 'Eko'],\n",
    "    'Umur': [21, 20, 23, 19, 22],\n",
    "    'IPK': [3.5, 3.8, 3.3, 3.9, 3.1]\n",
    "}\n",
    "\n",
    "df = pd.DataFrame(data)\n",
    "df"
   ]
  },
  {
   "cell_type": "markdown",
   "id": "121add4c",
   "metadata": {},
   "source": [
    "### ***Dari data diatas***\n",
    "\n",
    "- buatlah relational operator dengan umur lebih dari 20 \n",
    "- buatlah logical operator dengan umur lebih dari 20 dan IPK >= 3.5 "
   ]
  },
  {
   "cell_type": "code",
   "execution_count": 75,
   "id": "7f6ccff2",
   "metadata": {},
   "outputs": [
    {
     "name": "stdout",
     "output_type": "stream",
     "text": [
      "   Nama  Umur  IPK\n",
      "0  Budi    21  3.5\n",
      "2  Rina    23  3.3\n",
      "4   Eko    22  3.1\n"
     ]
    }
   ],
   "source": [
    "import pandas as pd\n",
    "data = {\n",
    "    'Nama': ['Budi', 'Ani', 'Rina', 'Dedi', 'Eko'],\n",
    "    'Umur': [21, 20, 23, 19, 22],\n",
    "    'IPK': [3.5, 3.8, 3.3, 3.9, 3.1]\n",
    "}\n",
    "\n",
    "df = pd.DataFrame(data)\n",
    "df\n",
    "\n",
    "a = df[df['Umur'] > 20]\n",
    "print(a)"
   ]
  },
  {
   "cell_type": "code",
   "execution_count": 77,
   "id": "e5e1a34e",
   "metadata": {},
   "outputs": [
    {
     "name": "stdout",
     "output_type": "stream",
     "text": [
      "   Nama  Umur  IPK\n",
      "0  Budi    21  3.5\n"
     ]
    }
   ],
   "source": [
    "b = df[(df['Umur'] > 20) & (df['IPK'] >= 3.5)]\n",
    "print(b)"
   ]
  },
  {
   "cell_type": "code",
   "execution_count": null,
   "id": "ee16f299",
   "metadata": {},
   "outputs": [],
   "source": []
  }
 ],
 "metadata": {
  "kernelspec": {
   "display_name": "Python 3 (ipykernel)",
   "language": "python",
   "name": "python3"
  },
  "language_info": {
   "codemirror_mode": {
    "name": "ipython",
    "version": 3
   },
   "file_extension": ".py",
   "mimetype": "text/x-python",
   "name": "python",
   "nbconvert_exporter": "python",
   "pygments_lexer": "ipython3",
   "version": "3.9.0"
  },
  "toc": {
   "base_numbering": 1,
   "nav_menu": {},
   "number_sections": true,
   "sideBar": true,
   "skip_h1_title": false,
   "title_cell": "Table of Contents",
   "title_sidebar": "Contents",
   "toc_cell": false,
   "toc_position": {},
   "toc_section_display": true,
   "toc_window_display": true
  }
 },
 "nbformat": 4,
 "nbformat_minor": 5
}
